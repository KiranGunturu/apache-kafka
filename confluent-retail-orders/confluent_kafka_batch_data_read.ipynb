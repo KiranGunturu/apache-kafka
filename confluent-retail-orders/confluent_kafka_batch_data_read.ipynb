{
 "cells": [
  {
   "cell_type": "code",
   "execution_count": 0,
   "metadata": {
    "application/vnd.databricks.v1+cell": {
     "cellMetadata": {
      "byteLimit": 2048000,
      "rowLimit": 10000
     },
     "inputWidgets": {},
     "nuid": "800459c0-5dfd-45ce-a03f-d1e45d8ea67b",
     "showTitle": false,
     "title": ""
    }
   },
   "outputs": [],
   "source": [
    "confluentBootstrapServers = 'pkc-12576z.us-west2.gcp.confluent.cloud:9092'\n",
    "confluentApiKey = 'N6QTO6LJ2Q5XZHEI'\n",
    "confluentSecret = 'tg9oqRFFM7A/oONjW2Hp42SU0wsf97gjuXrPtIrfQsEp83Z9i/fWDbBkjDN1GEbo'\n",
    "confluentTopicName = 'retail_orders'"
   ]
  },
  {
   "cell_type": "code",
   "execution_count": 0,
   "metadata": {
    "application/vnd.databricks.v1+cell": {
     "cellMetadata": {
      "byteLimit": 2048000,
      "rowLimit": 10000
     },
     "inputWidgets": {},
     "nuid": "f2c46248-3dcc-4433-8ce9-e141b29fced7",
     "showTitle": false,
     "title": ""
    }
   },
   "outputs": [],
   "source": [
    "### Kafka Batch Read - when we are doing one time load from kafka topic"
   ]
  },
  {
   "cell_type": "code",
   "execution_count": 0,
   "metadata": {
    "application/vnd.databricks.v1+cell": {
     "cellMetadata": {
      "byteLimit": 2048000,
      "rowLimit": 10000
     },
     "inputWidgets": {},
     "nuid": "d8149438-9088-4ee5-b907-9037662d6d4b",
     "showTitle": false,
     "title": ""
    }
   },
   "outputs": [],
   "source": [
    "orders_df = spark \\\n",
    "    .read \\\n",
    "    .format(\"kafka\") \\\n",
    "    .option(\"kafka.bootstrap.servers\", confluentBootstrapServers) \\\n",
    "    .option(\"kafka.security.protocol\", \"SASL_SSL\") \\\n",
    "    .option(\"kafka.sasl.mechanism\", \"PLAIN\") \\\n",
    "    .option(\"kafka.sasl.jaas.config\",\"kafkashaded.org.apache.kafka.common.security.plain.PlainLoginModule required username='{}' password='{}';\".format(confluentApiKey,confluentSecret)) \\\n",
    "    .option(\"kafka.ssl.endpoint.identification.algorithm\", \"https\") \\\n",
    "    .option(\"subscribe\",confluentTopicName) \\\n",
    "    .load()\n",
    "    "
   ]
  },
  {
   "cell_type": "code",
   "execution_count": 0,
   "metadata": {
    "application/vnd.databricks.v1+cell": {
     "cellMetadata": {
      "byteLimit": 2048000,
      "rowLimit": 10000
     },
     "inputWidgets": {},
     "nuid": "e912fbcc-1e2e-45e6-9052-a4d1b3e02f7f",
     "showTitle": false,
     "title": ""
    }
   },
   "outputs": [
    {
     "output_type": "display_data",
     "data": {
      "text/html": [
       "<style scoped>\n",
       "  .table-result-container {\n",
       "    max-height: 300px;\n",
       "    overflow: auto;\n",
       "  }\n",
       "  table, th, td {\n",
       "    border: 1px solid black;\n",
       "    border-collapse: collapse;\n",
       "  }\n",
       "  th, td {\n",
       "    padding: 5px;\n",
       "  }\n",
       "  th {\n",
       "    text-align: left;\n",
       "  }\n",
       "</style><div class='table-result-container'><table class='table-result'><thead style='background-color: white'><tr><th>key</th><th>value</th><th>topic</th><th>partition</th><th>offset</th><th>timestamp</th><th>timestampType</th></tr></thead><tbody><tr><td>MTE1OTk=</td><td>eyJvcmRlcl9pZCI6MSwiY3VzdG9tZXJfaWQiOjExNTk5LCJjdXN0b21lcl9mbmFtZSI6Ik1hcnkiLCJjdXN0b21lcl9sbmFtZSI6Ik1hbG9uZSIsImNpdHkiOiJIaWNrb3J5Iiwic3RhdGUiOiJOQyIsInBpbmNvZGUiOjI4NjA= (truncated)</td><td>retail_orders</td><td>2</td><td>0</td><td>2024-05-17T14:48:04.843+0000</td><td>0</td></tr></tbody></table></div>"
      ]
     },
     "metadata": {
      "application/vnd.databricks.v1+output": {
       "addedWidgets": {},
       "aggData": [],
       "aggError": "",
       "aggOverflow": false,
       "aggSchema": [],
       "aggSeriesLimitReached": false,
       "aggType": "",
       "arguments": {},
       "columnCustomDisplayInfos": {},
       "data": [
        [
         "MTE1OTk=",
         "eyJvcmRlcl9pZCI6MSwiY3VzdG9tZXJfaWQiOjExNTk5LCJjdXN0b21lcl9mbmFtZSI6Ik1hcnkiLCJjdXN0b21lcl9sbmFtZSI6Ik1hbG9uZSIsImNpdHkiOiJIaWNrb3J5Iiwic3RhdGUiOiJOQyIsInBpbmNvZGUiOjI4NjA= (truncated)",
         "retail_orders",
         2,
         0,
         "2024-05-17T14:48:04.843+0000",
         0
        ]
       ],
       "datasetInfos": [],
       "dbfsResultPath": null,
       "isJsonSchema": true,
       "metadata": {},
       "overflow": false,
       "plotOptions": {
        "customPlotOptions": {},
        "displayType": "table",
        "pivotAggregation": null,
        "pivotColumns": null,
        "xColumns": null,
        "yColumns": null
       },
       "removedWidgets": [],
       "schema": [
        {
         "metadata": "{}",
         "name": "key",
         "type": "\"binary\""
        },
        {
         "metadata": "{}",
         "name": "value",
         "type": "\"binary\""
        },
        {
         "metadata": "{}",
         "name": "topic",
         "type": "\"string\""
        },
        {
         "metadata": "{}",
         "name": "partition",
         "type": "\"integer\""
        },
        {
         "metadata": "{}",
         "name": "offset",
         "type": "\"long\""
        },
        {
         "metadata": "{}",
         "name": "timestamp",
         "type": "\"timestamp\""
        },
        {
         "metadata": "{}",
         "name": "timestampType",
         "type": "\"integer\""
        }
       ],
       "type": "table"
      }
     },
     "output_type": "display_data"
    }
   ],
   "source": [
    "display(orders_df)"
   ]
  },
  {
   "cell_type": "code",
   "execution_count": 0,
   "metadata": {
    "application/vnd.databricks.v1+cell": {
     "cellMetadata": {
      "byteLimit": 2048000,
      "rowLimit": 10000
     },
     "inputWidgets": {},
     "nuid": "0ff04aa6-b036-4943-8858-881d5377c4c3",
     "showTitle": false,
     "title": ""
    }
   },
   "outputs": [
    {
     "output_type": "stream",
     "name": "stdout",
     "output_type": "stream",
     "text": [
      "root\n |-- key: binary (nullable = true)\n |-- value: binary (nullable = true)\n |-- topic: string (nullable = true)\n |-- partition: integer (nullable = true)\n |-- offset: long (nullable = true)\n |-- timestamp: timestamp (nullable = true)\n |-- timestampType: integer (nullable = true)\n\n"
     ]
    }
   ],
   "source": [
    "orders_df.printSchema()"
   ]
  },
  {
   "cell_type": "code",
   "execution_count": 0,
   "metadata": {
    "application/vnd.databricks.v1+cell": {
     "cellMetadata": {
      "byteLimit": 2048000,
      "rowLimit": 10000
     },
     "inputWidgets": {},
     "nuid": "cd898129-e8f6-4ca8-9277-5f5ca02f4144",
     "showTitle": false,
     "title": ""
    }
   },
   "outputs": [],
   "source": [
    "converted_orders_df = orders_df.selectExpr(\"CAST(key as string) AS Key\", \"CAST(value as string) as value\", \"topic\", \"partition\", \"offset\", \"timestamp\", \"timestampType\")"
   ]
  },
  {
   "cell_type": "code",
   "execution_count": 0,
   "metadata": {
    "application/vnd.databricks.v1+cell": {
     "cellMetadata": {
      "byteLimit": 2048000,
      "rowLimit": 10000
     },
     "inputWidgets": {},
     "nuid": "62d44315-92bd-46bc-b80c-5e4dd5905364",
     "showTitle": false,
     "title": ""
    }
   },
   "outputs": [
    {
     "output_type": "display_data",
     "data": {
      "text/html": [
       "<style scoped>\n",
       "  .table-result-container {\n",
       "    max-height: 300px;\n",
       "    overflow: auto;\n",
       "  }\n",
       "  table, th, td {\n",
       "    border: 1px solid black;\n",
       "    border-collapse: collapse;\n",
       "  }\n",
       "  th, td {\n",
       "    padding: 5px;\n",
       "  }\n",
       "  th {\n",
       "    text-align: left;\n",
       "  }\n",
       "</style><div class='table-result-container'><table class='table-result'><thead style='background-color: white'><tr><th>Key</th><th>value</th><th>topic</th><th>partition</th><th>offset</th><th>timestamp</th><th>timestampType</th></tr></thead><tbody><tr><td>11599</td><td>{\"order_id\":1,\"customer_id\":11599,\"customer_fname\":\"Mary\",\"customer_lname\":\"Malone\",\"city\":\"Hickory\",\"state\":\"NC\",\"pincode\":28601,\"line_items\":[{\"order_item_id\":1,\"order_item_product_id\":957,\"order_item_quantity\":1,\"order_item_product_price\":299.98,\"order_item_subtotal\":299.98}]}</td><td>retail_orders</td><td>2</td><td>0</td><td>2024-05-17T14:48:04.843+0000</td><td>0</td></tr></tbody></table></div>"
      ]
     },
     "metadata": {
      "application/vnd.databricks.v1+output": {
       "addedWidgets": {},
       "aggData": [],
       "aggError": "",
       "aggOverflow": false,
       "aggSchema": [],
       "aggSeriesLimitReached": false,
       "aggType": "",
       "arguments": {},
       "columnCustomDisplayInfos": {},
       "data": [
        [
         "11599",
         "{\"order_id\":1,\"customer_id\":11599,\"customer_fname\":\"Mary\",\"customer_lname\":\"Malone\",\"city\":\"Hickory\",\"state\":\"NC\",\"pincode\":28601,\"line_items\":[{\"order_item_id\":1,\"order_item_product_id\":957,\"order_item_quantity\":1,\"order_item_product_price\":299.98,\"order_item_subtotal\":299.98}]}",
         "retail_orders",
         2,
         0,
         "2024-05-17T14:48:04.843+0000",
         0
        ]
       ],
       "datasetInfos": [],
       "dbfsResultPath": null,
       "isJsonSchema": true,
       "metadata": {},
       "overflow": false,
       "plotOptions": {
        "customPlotOptions": {},
        "displayType": "table",
        "pivotAggregation": null,
        "pivotColumns": null,
        "xColumns": null,
        "yColumns": null
       },
       "removedWidgets": [],
       "schema": [
        {
         "metadata": "{}",
         "name": "Key",
         "type": "\"string\""
        },
        {
         "metadata": "{}",
         "name": "value",
         "type": "\"string\""
        },
        {
         "metadata": "{}",
         "name": "topic",
         "type": "\"string\""
        },
        {
         "metadata": "{}",
         "name": "partition",
         "type": "\"integer\""
        },
        {
         "metadata": "{}",
         "name": "offset",
         "type": "\"long\""
        },
        {
         "metadata": "{}",
         "name": "timestamp",
         "type": "\"timestamp\""
        },
        {
         "metadata": "{}",
         "name": "timestampType",
         "type": "\"integer\""
        }
       ],
       "type": "table"
      }
     },
     "output_type": "display_data"
    }
   ],
   "source": [
    "display(converted_orders_df)"
   ]
  },
  {
   "cell_type": "code",
   "execution_count": 0,
   "metadata": {
    "application/vnd.databricks.v1+cell": {
     "cellMetadata": {},
     "inputWidgets": {},
     "nuid": "ceec0742-1873-46a6-9503-cb8c672e0ce1",
     "showTitle": false,
     "title": ""
    }
   },
   "outputs": [],
   "source": []
  }
 ],
 "metadata": {
  "application/vnd.databricks.v1+notebook": {
   "dashboards": [],
   "environmentMetadata": null,
   "language": "python",
   "notebookMetadata": {
    "pythonIndentUnit": 4
   },
   "notebookName": "confluent_kafka_batch_data_read",
   "widgets": {}
  }
 },
 "nbformat": 4,
 "nbformat_minor": 0
}
